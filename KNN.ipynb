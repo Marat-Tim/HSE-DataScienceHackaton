{
 "cells": [
  {
   "cell_type": "code",
   "execution_count": 3,
   "id": "54271cf0",
   "metadata": {
    "cellId": "zicrk06t3krazzwjgilwin"
   },
   "outputs": [
    {
     "name": "stdout",
     "output_type": "stream",
     "text": [
      "k = 610, accuracy = 0.49916805324459235\n"
     ]
    }
   ],
   "source": [
    "#!g1.1\n",
    "\n",
    "DEBUG = False\n",
    "\n",
    "import numpy as np\n",
    "import pandas as pd\n",
    "import matplotlib.pyplot as plt\n",
    "import spacy\n",
    "from numba import njit\n",
    "import warnings\n",
    "\n",
    "if DEBUG:\n",
    "    how_much_read = 100\n",
    "    step = 10\n",
    "else:\n",
    "    how_much_read = 2000\n",
    "    step = 100\n",
    "    \n",
    "\n",
    "warnings.filterwarnings('ignore')\n",
    "\n",
    "train = pd.read_csv(\"/home/jupyter/mnt/s3/hackathondata/train.csv\").loc[:how_much_read] # убрать .loc[] если хотим считать все\n",
    "\n",
    "train['sentiment'] = train['sentiment'].map({\"+\": 2, \"?\": 1, \"−\": 0})\n",
    "\n",
    "from sklearn.model_selection import train_test_split\n",
    "np.random.seed(2)\n",
    "X_train, X_test, y_train, y_test = train_test_split(train[\"sentence\"], train[\"sentiment\"], test_size=0.3)\n",
    "\n",
    "from sklearn.neighbors import KNeighborsClassifier\n",
    "from sklearn.metrics import accuracy_score\n",
    "\n",
    "nlp = spacy.load(\"ru_core_news_sm\")\n",
    "\n",
    "class KNN:    \n",
    "    def fit(self, X, y):\n",
    "        self.X = np.array([nlp(raw) for raw in X])\n",
    "        self.y = y\n",
    "        \n",
    "    def set_k(self, k: int):\n",
    "        self.k = k\n",
    "    \n",
    "    def predict(self, X):\n",
    "        result = list()\n",
    "        for raw in X:\n",
    "            doc = nlp(raw)\n",
    "            distances = np.array([doc.similarity(i) for i in self.X])\n",
    "            max_dist_of_knn = np.partition(distances, self.k - 1)[self.k - 1]\n",
    "            result.append(np.argmax(np.bincount(self.y[distances <= max_dist_of_knn])))\n",
    "        return np.array(result)\n",
    "\n",
    "def find_best_k_and_score(clf, X_test, y_test, k_iter, save):\n",
    "    best_k = -1\n",
    "    best_score = -1\n",
    "    for k in k_iter:\n",
    "        clf.set_k(k)\n",
    "        pred = clf.predict(X_test)\n",
    "        cur_score = accuracy_score(y_test, pred)\n",
    "        save[k] = cur_score\n",
    "        if cur_score > best_score:\n",
    "            best_score = cur_score\n",
    "            best_k = k\n",
    "    return best_k\n",
    "    \n",
    "clf = KNN()\n",
    "clf.fit(X_train, y_train)\n",
    "save = dict()\n",
    "k_iter = range(10, X_train.shape[0] // 2, step)\n",
    "k = find_best_k_and_score(clf, X_test, y_test, k_iter, save)\n",
    "print(f\"k = {k}, accuracy = {save[k]}\")"
   ]
  },
  {
   "cell_type": "code",
   "execution_count": null,
   "id": "e6e056f2",
   "metadata": {
    "cellId": "3ht2k4jd7jagodotkn6e9"
   },
   "outputs": [],
   "source": [
    "#!g1.1\n"
   ]
  }
 ],
 "metadata": {
  "language_info": {
   "codemirror_mode": {
    "name": "ipython",
    "version": 3
   },
   "file_extension": ".py",
   "mimetype": "text/x-python",
   "name": "python",
   "nbconvert_exporter": "python",
   "pygments_lexer": "ipython3",
   "version": "3.7.7"
  },
  "notebookId": "ac35806b-728f-4e83-b72a-463007a8890f",
  "notebookPath": "HSE-DataScienceHackaton/KNN.ipynb"
 },
 "nbformat": 4,
 "nbformat_minor": 5
}
