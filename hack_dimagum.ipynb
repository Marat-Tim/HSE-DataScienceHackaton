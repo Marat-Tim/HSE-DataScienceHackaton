{
 "cells": [
  {
   "cell_type": "code",
   "execution_count": 2,
   "id": "75274d7e",
   "metadata": {
    "cellId": "kutuohg6mf6k2w5fmgm1u"
   },
   "outputs": [],
   "source": [
    "import pandas as pd"
   ]
  },
  {
   "cell_type": "code",
   "execution_count": 3,
   "id": "b6fbe0d0",
   "metadata": {
    "cellId": "qf41307ntbrlcchx6vfxro"
   },
   "outputs": [
    {
     "name": "stdout",
     "output_type": "stream",
     "text": [
      "1\n"
     ]
    }
   ],
   "source": [
    "print(1)"
   ]
  }
 ],
 "metadata": {
  "language_info": {
   "codemirror_mode": {
    "name": "ipython",
    "version": 3
   },
   "file_extension": ".py",
   "mimetype": "text/x-python",
   "name": "python",
   "nbconvert_exporter": "python",
   "pygments_lexer": "ipython3",
   "version": "3.7.7"
  },
  "notebookId": "40a70152-275b-4a28-bbd8-3fbc5cfd40ca",
  "notebookPath": "hack_dimagum.ipynb"
 },
 "nbformat": 4,
 "nbformat_minor": 5
}
