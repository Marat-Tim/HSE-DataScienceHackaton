{
 "cells": [
  {
   "cell_type": "code",
   "execution_count": 1,
   "id": "c398f4cc",
   "metadata": {
    "cellId": "xi577psztf7g7i25gqgpa"
   },
   "outputs": [],
   "source": [
    "import numpy as np\n",
    "import pandas as pd\n",
    "import matplotlib.pyplot as plt"
   ]
  },
  {
   "cell_type": "code",
   "execution_count": 2,
   "id": "a855ed72",
   "metadata": {
    "cellId": "kx3q9abyz69q0inv0hfhjb"
   },
   "outputs": [],
   "source": [
    "train = pd.read_csv(\"/home/jupyter/mnt/s3/hackathondata/train.csv\").loc[:100]"
   ]
  },
  {
   "cell_type": "code",
   "execution_count": 3,
   "id": "af4a4824",
   "metadata": {
    "cellId": "ddd7dl6lae8zvcx95hlzre"
   },
   "outputs": [],
   "source": [
    "from sklearn.model_selection import train_test_split\n",
    "np.random.seed(2)\n",
    "X_train, X_test, y_train, y_test = train_test_split(train[\"sentence\"], train[\"sentiment\"], test_size=0.3)"
   ]
  },
  {
   "cell_type": "code",
   "execution_count": 4,
   "id": "6e2b642c",
   "metadata": {
    "cellId": "5pmy2xc4lo3kfxg41weh4q"
   },
   "outputs": [],
   "source": [
    "from sklearn.linear_model import LogisticRegression\n",
    "from sklearn.metrics import roc_auc_score"
   ]
  },
  {
   "cell_type": "code",
   "execution_count": 12,
   "id": "f7e5d409",
   "metadata": {
    "cellId": "c4j3uy0atl1b7kep40epy"
   },
   "outputs": [
    {
     "data": {
      "text/plain": [
       "array([[0, 1, 1, 1, 1],\n",
       "       [1, 0, 1, 1, 0]])"
      ]
     },
     "execution_count": 12,
     "metadata": {},
     "output_type": "execute_result"
    }
   ],
   "source": [
    "from sklearn.feature_extraction.text import CountVectorizer\n",
    "\n",
    "# Example string data\n",
    "X_train = [\"This is a sample sentence\", \"Another sample sentence\"]\n",
    "\n",
    "# Convert text into numerical features using bag of words\n",
    "vectorizer = CountVectorizer()\n",
    "\n",
    "vectorizer.fit_transform(X_train).toarray()"
   ]
  },
  {
   "cell_type": "code",
   "execution_count": 13,
   "id": "4a3648c7",
   "metadata": {
    "cellId": "z44mwpluhx9bo7f8hj93r"
   },
   "outputs": [
    {
     "data": {
      "text/plain": [
       "{'this': 4, 'is': 1, 'sample': 2, 'sentence': 3, 'another': 0}"
      ]
     },
     "execution_count": 13,
     "metadata": {},
     "output_type": "execute_result"
    }
   ],
   "source": [
    "vectorizer.vocabulary_"
   ]
  },
  {
   "cell_type": "code",
   "execution_count": null,
   "id": "e5ac14e7",
   "metadata": {
    "cellId": "56ijfym3ackxfa690a6ixk"
   },
   "outputs": [],
   "source": []
  }
 ],
 "metadata": {
  "language_info": {
   "codemirror_mode": {
    "name": "ipython",
    "version": 3
   },
   "file_extension": ".py",
   "mimetype": "text/x-python",
   "name": "python",
   "nbconvert_exporter": "python",
   "pygments_lexer": "ipython3",
   "version": "3.7.7"
  },
  "notebookId": "711cb4f6-0360-42eb-bdbd-c0120fc29e3b",
  "notebookPath": "HSE-DataScienceHackaton/Untitled.ipynb"
 },
 "nbformat": 4,
 "nbformat_minor": 5
}
